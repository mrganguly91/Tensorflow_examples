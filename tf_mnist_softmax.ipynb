{
  "nbformat": 4,
  "nbformat_minor": 0,
  "metadata": {
    "colab": {
      "name": "tf_practice",
      "version": "0.3.2",
      "provenance": []
    },
    "kernelspec": {
      "name": "python3",
      "display_name": "Python 3"
    },
    "accelerator": "GPU"
  },
  "cells": [
    {
      "cell_type": "code",
      "metadata": {
        "id": "W1GGlpxwEA80",
        "colab_type": "code",
        "colab": {
          "base_uri": "https://localhost:8080/",
          "height": 90
        },
        "outputId": "035f993e-c16f-4d65-9990-617aba5b5642"
      },
      "source": [
        "from tensorflow.examples.tutorials.mnist import input_data\n",
        "mnist=input_data.read_data_sets('MNIST/',one_hot=True)"
      ],
      "execution_count": 12,
      "outputs": [
        {
          "output_type": "stream",
          "text": [
            "Extracting MNIST/train-images-idx3-ubyte.gz\n",
            "Extracting MNIST/train-labels-idx1-ubyte.gz\n",
            "Extracting MNIST/t10k-images-idx3-ubyte.gz\n",
            "Extracting MNIST/t10k-labels-idx1-ubyte.gz\n"
          ],
          "name": "stdout"
        }
      ]
    },
    {
      "cell_type": "code",
      "metadata": {
        "id": "ns3MonaCEiJA",
        "colab_type": "code",
        "colab": {
          "base_uri": "https://localhost:8080/",
          "height": 126
        },
        "outputId": "7d143d98-2f01-41b5-f5bf-83ebe0b5bd54"
      },
      "source": [
        "# high level stats \n",
        "print(\"Number of examples-train data:\",mnist.train.num_examples)\n",
        "print(\"Number of examples-test data:\",mnist.test.num_examples)\n",
        "\n",
        "\n",
        "print(\"Shape of Train data:\",mnist.train.images.shape)\n",
        "print(\"Shape of Test data:\",mnist.test.images.shape)\n",
        "\n",
        "print(\"Shape of train labels:\",mnist.train.labels.shape)\n",
        "print(\"Shape of test labels:\",mnist.test.labels.shape)"
      ],
      "execution_count": 13,
      "outputs": [
        {
          "output_type": "stream",
          "text": [
            "Number of examples-train data: 55000\n",
            "Number of examples-test data: 10000\n",
            "Shape of Train data: (55000, 784)\n",
            "Shape of Test data: (10000, 784)\n",
            "Shape of train labels: (55000, 10)\n",
            "Shape of test labels: (10000, 10)\n"
          ],
          "name": "stdout"
        }
      ]
    },
    {
      "cell_type": "code",
      "metadata": {
        "id": "4usMchqnGgdB",
        "colab_type": "code",
        "colab": {}
      },
      "source": [
        "import tensorflow as tf\n",
        "import matplotlib.pyplot as plt"
      ],
      "execution_count": 0,
      "outputs": []
    },
    {
      "cell_type": "code",
      "metadata": {
        "id": "ApUcrv-tEzai",
        "colab_type": "code",
        "colab": {
          "base_uri": "https://localhost:8080/",
          "height": 90
        },
        "outputId": "48359ecd-b666-45c9-b627-9a3ccb9ddd98"
      },
      "source": [
        "# placeholders \n",
        "\n",
        "x=tf.placeholder(tf.float32,[None,784])\n",
        "y_actual=tf.placeholder(tf.float32,[None,10])\n",
        "\n",
        "print(\"Shape of placeholder-x:\",x.shape)\n",
        "print(\"Shape of placeholder-y_actual:\",y_actual.shape)\n",
        "\n",
        "# variable declaration \n",
        "\n",
        "W=tf.Variable(tf.zeros([784,10]))\n",
        "b=tf.Variable(tf.zeros([10]))\n",
        "print(\"Shape of the weight:\",W.shape)\n",
        "print(\"shape of the bias:\",b.shape)"
      ],
      "execution_count": 15,
      "outputs": [
        {
          "output_type": "stream",
          "text": [
            "Shape of placeholder-x: (?, 784)\n",
            "Shape of placeholder-y_actual: (?, 10)\n",
            "Shape of the weight: (784, 10)\n",
            "shape of the bias: (10,)\n"
          ],
          "name": "stdout"
        }
      ]
    },
    {
      "cell_type": "code",
      "metadata": {
        "id": "yRB1HCaKGe_d",
        "colab_type": "code",
        "colab": {
          "base_uri": "https://localhost:8080/",
          "height": 35
        },
        "outputId": "c326e250-d9b1-47b3-c37b-09615ccadf7f"
      },
      "source": [
        "# predicting class labels using softmax \n",
        "y_pred=tf.nn.softmax(tf.matmul(x,W)+b)\n",
        "\n",
        "print(\"Shape of y_pred\",y_pred.shape)"
      ],
      "execution_count": 16,
      "outputs": [
        {
          "output_type": "stream",
          "text": [
            "Shape of y_pred (?, 10)\n"
          ],
          "name": "stdout"
        }
      ]
    },
    {
      "cell_type": "code",
      "metadata": {
        "id": "kn8GjLDkGw__",
        "colab_type": "code",
        "colab": {}
      },
      "source": [
        "# Cross entropy calculation \n",
        "cross_entropy=tf.reduce_mean(-tf.reduce_sum(y_actual*tf.log(y_pred),1))\n",
        "# Implementation of gradient descent with learning rate of 0.05\n",
        "train_step=tf.train.GradientDescentOptimizer(0.05).minimize(cross_entropy)\n"
      ],
      "execution_count": 0,
      "outputs": []
    },
    {
      "cell_type": "code",
      "metadata": {
        "id": "6EBTFgPFH_ec",
        "colab_type": "code",
        "colab": {
          "base_uri": "https://localhost:8080/",
          "height": 74
        },
        "outputId": "488fd613-0606-41e6-ce11-9195ee35cbe8"
      },
      "source": [
        "# Session creation:\n",
        "sess=tf.InteractiveSession()\n",
        "# initialising all global variables(w and b here)\n",
        "tf.global_variables_initializer().run()"
      ],
      "execution_count": 18,
      "outputs": [
        {
          "output_type": "stream",
          "text": [
            "/usr/local/lib/python3.6/dist-packages/tensorflow/python/client/session.py:1735: UserWarning: An interactive session is already active. This can cause out-of-memory errors in some cases. You must explicitly call `InteractiveSession.close()` to release resources held by the other session(s).\n",
            "  warnings.warn('An interactive session is already active. This can '\n"
          ],
          "name": "stderr"
        }
      ]
    },
    {
      "cell_type": "code",
      "metadata": {
        "id": "MHsCRj9WHihv",
        "colab_type": "code",
        "colab": {}
      },
      "source": [
        "# we are passing 100 data points at a time \n",
        "# in that sense, here we are using minibatch SGD\n",
        "for _ in range(1000):\n",
        "  batch_xs,batch_ys=mnist.train.next_batch(100)\n",
        "  result=sess.run(train_step,feed_dict={x:batch_xs,y_actual:batch_ys})\n",
        "  "
      ],
      "execution_count": 0,
      "outputs": []
    },
    {
      "cell_type": "code",
      "metadata": {
        "id": "CCjKYdD5ImaA",
        "colab_type": "code",
        "colab": {
          "base_uri": "https://localhost:8080/",
          "height": 35
        },
        "outputId": "f60e5edd-7c1d-4b93-ec82-3073ed110c42"
      },
      "source": [
        "# checking performace of the model \n",
        "\n",
        "# performance metric here is accuracy \n",
        "\n",
        "correct_pred=tf.equal(tf.argmax(y_pred,1),tf.argmax(y_actual,1))\n",
        "\n",
        "accuracy=tf.reduce_mean(tf.cast(correct_pred,tf.float32))\n",
        "\n",
        "print(\"accuracy:\",sess.run(accuracy,feed_dict={x:mnist.test.images,y_actual:mnist.test.labels}))"
      ],
      "execution_count": 20,
      "outputs": [
        {
          "output_type": "stream",
          "text": [
            "accuracy: 0.9005\n"
          ],
          "name": "stdout"
        }
      ]
    },
    {
      "cell_type": "markdown",
      "metadata": {
        "id": "1hLDOlrtX1Ib",
        "colab_type": "text"
      },
      "source": [
        "# Summarized code \n",
        "\n",
        "Here we are summarizing all the steps we have done above in one place "
      ]
    },
    {
      "cell_type": "code",
      "metadata": {
        "id": "5RicsOjxJttn",
        "colab_type": "code",
        "colab": {
          "base_uri": "https://localhost:8080/",
          "height": 35
        },
        "outputId": "27f422ad-1a2e-45f7-dc2d-948fb4da3667"
      },
      "source": [
        "#summarize everything in one place \n",
        "\n",
        "batch_size=1000\n",
        "total_epoch=15\n",
        "total_batches=int(mnist.train.num_examples/batch_size)\n",
        "cross_entropy=tf.reduce_mean(tf.nn.softmax_cross_entropy_with_logits(logits=y_pred,labels=y_actual))\n",
        "\n",
        "train_step=tf.train.GradientDescentOptimizer(0.05).minimize(cross_entropy)\n",
        "\n",
        "xs=[] #epoches \n",
        "ytrs=[] # train_loss_avg\n",
        "ytes=[] # test_loss_avg\n",
        "for epoch in range(total_epoch):\n",
        "  train_avg_loss=0\n",
        "  test_avg_loss=0\n",
        "  \n",
        "\n",
        "  for cbatch in range(total_batches):\n",
        "    batch_xs,batch_ys=mnist.train.next_batch(batch_size)\n",
        "    _,c=sess.run([train_step,cross_entropy],feed_dict={x:batch_xs,y_actual:batch_ys})\n",
        "    train_avg_loss+=c/total_batches\n",
        "    c=sess.run(cross_entropy,feed_dict={x:mnist.test.images,y_actual:mnist.test.labels})\n",
        "    test_avg_loss+=c/total_batches\n",
        "    \n",
        "  xs.append(epoch)\n",
        "  ytrs.append(train_avg_loss)\n",
        "  ytes.append(test_avg_loss)\n",
        "  \n",
        "\n",
        "correct_pred=tf.equal(tf.argmax(y_pred,1),tf.argmax(y_actual,1))\n",
        "accuracy=tf.reduce_mean(tf.cast(correct_pred,tf.float32))\n",
        "print(\"accuracy:\",sess.run(accuracy,feed_dict={x:mnist.test.images,y_actual:mnist.test.labels}))"
      ],
      "execution_count": 21,
      "outputs": [
        {
          "output_type": "stream",
          "text": [
            "accuracy: 0.9006\n"
          ],
          "name": "stdout"
        }
      ]
    },
    {
      "cell_type": "markdown",
      "metadata": {
        "id": "sIrg0GUSXvNk",
        "colab_type": "text"
      },
      "source": [
        "# Plot "
      ]
    },
    {
      "cell_type": "code",
      "metadata": {
        "id": "2Gy0cGfiTan7",
        "colab_type": "code",
        "colab": {
          "base_uri": "https://localhost:8080/",
          "height": 295
        },
        "outputId": "76466e4c-b953-42f2-d715-b528c4e15716"
      },
      "source": [
        "\n",
        "plt.plot(xs,ytrs,'r',label='train loss')\n",
        "plt.plot(xs,ytes,'orange',label='test loss')\n",
        "plt.legend(loc=0)\n",
        "plt.title(\"Error plot\")\n",
        "plt.xlabel(\"Epoch\")\n",
        "plt.ylabel(\"Soft max cross entropy loss\")\n",
        "plt.grid(1)"
      ],
      "execution_count": 22,
      "outputs": [
        {
          "output_type": "display_data",
          "data": {
            "image/png": "[encoded data removed]",
            "text/plain": [
              "<Figure size 432x288 with 1 Axes>"
            ]
          },
          "metadata": {
            "tags": []
          }
        }
      ]
    }
  ]
}