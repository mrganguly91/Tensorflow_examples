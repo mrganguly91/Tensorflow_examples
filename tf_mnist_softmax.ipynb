{
  "nbformat": 4,
  "nbformat_minor": 0,
  "metadata": {
    "colab": {
      "name": "tf_practice",
      "version": "0.3.2",
      "provenance": []
    },
    "kernelspec": {
      "name": "python3",
      "display_name": "Python 3"
    },
    "accelerator": "GPU"
  },
  "cells": [
    {
      "cell_type": "code",
      "metadata": {
        "id": "W1GGlpxwEA80",
        "colab_type": "code",
        "colab": {
          "base_uri": "https://localhost:8080/",
          "height": 90
        },
        "outputId": "59f511a7-512d-446c-99f2-d6d3d9c696e3"
      },
      "source": [
        "from tensorflow.examples.tutorials.mnist import input_data\n",
        "mnist=input_data.read_data_sets('MNIST/',one_hot=True)"
      ],
      "execution_count": 35,
      "outputs": [
        {
          "output_type": "stream",
          "text": [
            "Extracting MNIST/train-images-idx3-ubyte.gz\n",
            "Extracting MNIST/train-labels-idx1-ubyte.gz\n",
            "Extracting MNIST/t10k-images-idx3-ubyte.gz\n",
            "Extracting MNIST/t10k-labels-idx1-ubyte.gz\n"
          ],
          "name": "stdout"
        }
      ]
    },
    {
      "cell_type": "code",
      "metadata": {
        "id": "ns3MonaCEiJA",
        "colab_type": "code",
        "colab": {
          "base_uri": "https://localhost:8080/",
          "height": 126
        },
        "outputId": "2de19115-3b61-43bb-d7ba-6745fa07683f"
      },
      "source": [
        "# high level stats \n",
        "print(\"Number of examples-train data:\",mnist.train.num_examples)\n",
        "print(\"Number of examples-test data:\",mnist.test.num_examples)\n",
        "\n",
        "\n",
        "print(\"Shape of Train data:\",mnist.train.images.shape)\n",
        "print(\"Shape of Test data:\",mnist.test.images.shape)\n",
        "\n",
        "print(\"Shape of train labels:\",mnist.train.labels.shape)\n",
        "print(\"Shape of test labels:\",mnist.test.labels.shape)"
      ],
      "execution_count": 36,
      "outputs": [
        {
          "output_type": "stream",
          "text": [
            "Number of examples-train data: 55000\n",
            "Number of examples-test data: 10000\n",
            "Shape of Train data: (55000, 784)\n",
            "Shape of Test data: (10000, 784)\n",
            "Shape of train labels: (55000, 10)\n",
            "Shape of test labels: (10000, 10)\n"
          ],
          "name": "stdout"
        }
      ]
    },
    {
      "cell_type": "code",
      "metadata": {
        "id": "4usMchqnGgdB",
        "colab_type": "code",
        "colab": {}
      },
      "source": [
        "import tensorflow as tf\n",
        "import matplotlib.pyplot as plt"
      ],
      "execution_count": 0,
      "outputs": []
    },
    {
      "cell_type": "code",
      "metadata": {
        "id": "ApUcrv-tEzai",
        "colab_type": "code",
        "colab": {
          "base_uri": "https://localhost:8080/",
          "height": 90
        },
        "outputId": "521ebbba-5908-4491-f500-e8317f8caf57"
      },
      "source": [
        "# placeholders \n",
        "\n",
        "x=tf.placeholder(tf.float32,[None,784])\n",
        "y_actual=tf.placeholder(tf.float32,[None,10])\n",
        "\n",
        "print(\"Shape of placeholder-x:\",x.shape)\n",
        "print(\"Shape of placeholder-y_actual:\",y_actual.shape)\n",
        "\n",
        "# variable declaration \n",
        "\n",
        "W=tf.Variable(tf.zeros([784,10]))\n",
        "b=tf.Variable(tf.zeros([10]))\n",
        "print(\"Shape of the weight:\",W.shape)\n",
        "print(\"shape of the bias:\",b.shape)"
      ],
      "execution_count": 38,
      "outputs": [
        {
          "output_type": "stream",
          "text": [
            "Shape of placeholder-x: (?, 784)\n",
            "Shape of placeholder-y_actual: (?, 10)\n",
            "Shape of the weight: (784, 10)\n",
            "shape of the bias: (10,)\n"
          ],
          "name": "stdout"
        }
      ]
    },
    {
      "cell_type": "code",
      "metadata": {
        "id": "yRB1HCaKGe_d",
        "colab_type": "code",
        "colab": {
          "base_uri": "https://localhost:8080/",
          "height": 35
        },
        "outputId": "66a4c9a8-2e55-4b84-85c0-9b2b9ecb37c3"
      },
      "source": [
        "# predicting class labels using softmax \n",
        "y_pred=tf.nn.softmax(tf.matmul(x,W)+b)\n",
        "\n",
        "print(\"Shape of y_pred\",y_pred.shape)"
      ],
      "execution_count": 39,
      "outputs": [
        {
          "output_type": "stream",
          "text": [
            "Shape of y_pred (?, 10)\n"
          ],
          "name": "stdout"
        }
      ]
    },
    {
      "cell_type": "code",
      "metadata": {
        "id": "kn8GjLDkGw__",
        "colab_type": "code",
        "colab": {}
      },
      "source": [
        "# Cross entropy calculation \n",
        "cross_entropy=tf.reduce_mean(-tf.reduce_sum(y_actual*tf.log(y_pred),1))\n",
        "# Implementation of gradient descent with learning rate of 0.05\n",
        "train_step=tf.train.GradientDescentOptimizer(0.05).minimize(cross_entropy)\n"
      ],
      "execution_count": 0,
      "outputs": []
    },
    {
      "cell_type": "code",
      "metadata": {
        "id": "6EBTFgPFH_ec",
        "colab_type": "code",
        "colab": {
          "base_uri": "https://localhost:8080/",
          "height": 74
        },
        "outputId": "31e19c6f-d989-47b6-e4b3-15541db1f2e7"
      },
      "source": [
        "# Session creation:\n",
        "sess=tf.InteractiveSession()\n",
        "# initialising all global variables(w and b here)\n",
        "tf.global_variables_initializer().run()"
      ],
      "execution_count": 41,
      "outputs": [
        {
          "output_type": "stream",
          "text": [
            "/usr/local/lib/python3.6/dist-packages/tensorflow/python/client/session.py:1735: UserWarning: An interactive session is already active. This can cause out-of-memory errors in some cases. You must explicitly call `InteractiveSession.close()` to release resources held by the other session(s).\n",
            "  warnings.warn('An interactive session is already active. This can '\n"
          ],
          "name": "stderr"
        }
      ]
    },
    {
      "cell_type": "code",
      "metadata": {
        "id": "MHsCRj9WHihv",
        "colab_type": "code",
        "colab": {}
      },
      "source": [
        "# we are passing 100 data points at a time \n",
        "# in that sense, here we are using minibatch SGD\n",
        "for _ in range(1000):\n",
        "  batch_xs,batch_ys=mnist.train.next_batch(100)\n",
        "  result=sess.run(train_step,feed_dict={x:batch_xs,y_actual:batch_ys})\n",
        "  "
      ],
      "execution_count": 0,
      "outputs": []
    },
    {
      "cell_type": "code",
      "metadata": {
        "id": "CCjKYdD5ImaA",
        "colab_type": "code",
        "colab": {
          "base_uri": "https://localhost:8080/",
          "height": 35
        },
        "outputId": "92773438-e03f-4238-bced-284ea6f59f50"
      },
      "source": [
        "# checking performace of the model \n",
        "\n",
        "# performance metric here is accuracy \n",
        "\n",
        "correct_pred=tf.equal(tf.argmax(y_pred,1),tf.argmax(y_actual,1))\n",
        "\n",
        "accuracy=tf.reduce_mean(tf.cast(correct_pred,tf.float32))\n",
        "\n",
        "print(\"accuracy:\",sess.run(accuracy,feed_dict={x:mnist.test.images,y_actual:mnist.test.labels}))"
      ],
      "execution_count": 43,
      "outputs": [
        {
          "output_type": "stream",
          "text": [
            "accuracy: 0.9027\n"
          ],
          "name": "stdout"
        }
      ]
    },
    {
      "cell_type": "markdown",
      "metadata": {
        "id": "1hLDOlrtX1Ib",
        "colab_type": "text"
      },
      "source": [
        "# Summarized code \n",
        "\n",
        "Here we are summarizing all the steps we have done above in one place "
      ]
    },
    {
      "cell_type": "code",
      "metadata": {
        "id": "5RicsOjxJttn",
        "colab_type": "code",
        "colab": {
          "base_uri": "https://localhost:8080/",
          "height": 35
        },
        "outputId": "02a42a3d-aa8e-4223-d954-08bc18325014"
      },
      "source": [
        "#summarize everything in one place \n",
        "\n",
        "batch_size=1000\n",
        "total_epoch=15\n",
        "total_batches=int(mnist.train.num_examples/batch_size)\n",
        "cross_entropy=tf.reduce_mean(tf.nn.softmax_cross_entropy_with_logits(logits=y_pred,labels=y_actual))\n",
        "\n",
        "train_step=tf.train.GradientDescentOptimizer(0.05).minimize(cross_entropy)\n",
        "\n",
        "xs=[] #epoches \n",
        "ytrs=[] # train_loss_avg\n",
        "ytes=[] # test_loss_avg\n",
        "for epoch in range(total_epoch):\n",
        "  train_avg_loss=0\n",
        "  test_avg_loss=0\n",
        "  \n",
        "\n",
        "  for cbatch in range(total_batches):\n",
        "    batch_xs,batch_ys=mnist.train.next_batch(batch_size)\n",
        "    _,c=sess.run([train_step,cross_entropy],feed_dict={x:batch_xs,y_actual:batch_ys})\n",
        "    train_avg_loss+=c/total_batches\n",
        "    c=sess.run(cross_entropy,feed_dict={x:mnist.test.images,y_actual:mnist.test.labels})\n",
        "    test_avg_loss+=c/total_batches\n",
        "    \n",
        "  xs.append(epoch)\n",
        "  ytrs.append(train_avg_loss)\n",
        "  ytes.append(test_avg_loss)\n",
        "  \n",
        "\n",
        "correct_pred=tf.equal(tf.argmax(y_pred,1),tf.argmax(y_actual,1))\n",
        "accuracy=tf.reduce_mean(tf.cast(correct_pred,tf.float32))\n",
        "print(\"accuracy:\",sess.run(accuracy,feed_dict={x:mnist.test.images,y_actual:mnist.test.labels}))"
      ],
      "execution_count": 44,
      "outputs": [
        {
          "output_type": "stream",
          "text": [
            "accuracy: 0.9011\n"
          ],
          "name": "stdout"
        }
      ]
    },
    {
      "cell_type": "markdown",
      "metadata": {
        "id": "sIrg0GUSXvNk",
        "colab_type": "text"
      },
      "source": [
        "# Plot "
      ]
    },
    {
      "cell_type": "code",
      "metadata": {
        "id": "2Gy0cGfiTan7",
        "colab_type": "code",
        "colab": {
          "base_uri": "https://localhost:8080/",
          "height": 295
        },
        "outputId": "f60da769-27fe-49e2-cfe4-bdd5753264b7"
      },
      "source": [
        "\n",
        "plt.plot(xs,ytrs,'r',label='train loss')\n",
        "plt.plot(xs,ytes,'orange',label='test loss')\n",
        "plt.legend(loc=0)\n",
        "plt.title(\"Error plot\")\n",
        "plt.xlabel(\"Epoch\")\n",
        "plt.ylabel(\"Soft max cross entropy loss\")\n",
        "plt.grid(1)"
      ],
      "execution_count": 45,
      "outputs": [
        {
          "output_type": "display_data",
          "data": {
            "image/png": "[encoded data removed]",
            "text/plain": [
              "<Figure size 432x288 with 1 Axes>"
            ]
          },
          "metadata": {
            "tags": []
          }
        }
      ]
    }
  ]
}